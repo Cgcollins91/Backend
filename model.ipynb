{
 "cells": [
  {
   "cell_type": "code",
   "execution_count": 1,
   "id": "41bee4da-5a37-4994-9fce-3d0a1207bb7c",
   "metadata": {},
   "outputs": [],
   "source": [
    "from __future__ import absolute_import\n",
    "from __future__ import division\n",
    "from __future__ import print_function\n",
    "import pandas as pd\n",
    "import spacy\n",
    "import category_encoders as ce\n",
    "from sklearn.metrics import accuracy_score\n",
    "from sklearn.ensemble import RandomForestClassifier\n",
    "from scipy.stats import randint\n",
    "from sklearn.feature_extraction.text import TfidfVectorizer\n",
    "from sklearn.linear_model import LogisticRegression\n",
    "from sklearn.pipeline import Pipeline\n",
    "from sklearn.ensemble import GradientBoostingClassifier\n",
    "import numpy as np\n",
    "import matplotlib.pyplot as plt\n",
    "from sklearn.feature_extraction.text import CountVectorizer\n",
    "\n",
    "\n",
    "\n",
    "# Load Spacy large\n",
    "nlp = spacy.load(\"en_core_web_lg\")"
   ]
  },
  {
   "cell_type": "code",
   "execution_count": 2,
   "id": "529959eb-406b-41ab-b6e6-593b24862507",
   "metadata": {},
   "outputs": [],
   "source": [
    "nlp_cols  = ['blurb', 'name']\n",
    "cat_cols  = ['country', 'spotlight', 'staff_pick', 'currency']\n",
    "num_cols  = ['converted_pledged_amount', 'backers_count', 'goal']\n",
    "target    = 'state'\n",
    "date_cols = ['launched_at', 'deadline']\n",
    "\n"
   ]
  },
  {
   "cell_type": "code",
   "execution_count": 3,
   "id": "d658799f-ae42-4045-8241-6d9143738e22",
   "metadata": {},
   "outputs": [],
   "source": [
    "df_train = pd.read_pickle('df_train.pkl')\n",
    "df_test  = pd.read_pickle('df_test.pkl')\n",
    "\n",
    "X_train, y_train = df_train.drop(columns = [target]), df_train[target]\n",
    "X_test,   y_test =  df_test.drop(columns = [target]),  df_test[target]"
   ]
  },
  {
   "cell_type": "code",
   "execution_count": null,
   "id": "69e3a1fb-0180-4c85-990b-a0dc2ed3b201",
   "metadata": {},
   "outputs": [],
   "source": []
  }
 ],
 "metadata": {
  "kernelspec": {
   "display_name": "Python (bw_unit_4)",
   "language": "python",
   "name": "bw_unit_4"
  },
  "language_info": {
   "codemirror_mode": {
    "name": "ipython",
    "version": 3
   },
   "file_extension": ".py",
   "mimetype": "text/x-python",
   "name": "python",
   "nbconvert_exporter": "python",
   "pygments_lexer": "ipython3",
   "version": "3.9.6"
  }
 },
 "nbformat": 4,
 "nbformat_minor": 5
}
