{
 "cells": [
  {
   "cell_type": "code",
   "execution_count": 1,
   "id": "41bee4da-5a37-4994-9fce-3d0a1207bb7c",
   "metadata": {},
   "outputs": [],
   "source": [
    "import pandas as pd\n",
    "import spacy\n",
    "import category_encoders as ce\n",
    "from sklearn.ensemble import RandomForestClassifier\n",
    "from scipy.stats import randint\n",
    "from sklearn.feature_extraction.text import TfidfVectorizer\n",
    "from sklearn.linear_model import LogisticRegression\n",
    "from sklearn.pipeline import Pipeline\n",
    "from sklearn.ensemble import GradientBoostingClassifier\n",
    "import numpy as np\n",
    "import matplotlib.pyplot as plt\n",
    "from sklearn.feature_extraction.text import CountVectorizer\n",
    "\n",
    "# Load Spacy large\n",
    "nlp = spacy.load(\"en_core_web_lg\")"
   ]
  },
  {
   "cell_type": "code",
   "execution_count": 42,
   "id": "529959eb-406b-41ab-b6e6-593b24862507",
   "metadata": {},
   "outputs": [],
   "source": [
    "nlp_cols  = ['blurb', 'name']\n",
    "cat_cols  = ['country', 'spotlight', 'staff_pick', 'currency']\n",
    "num_cols  = ['converted_pledged_amount', 'backers_count', 'goal']\n",
    "target    = 'state'\n",
    "date_cols = ['launched_at', 'deadline']"
   ]
  },
  {
   "cell_type": "code",
   "execution_count": 43,
   "id": "d658799f-ae42-4045-8241-6d9143738e22",
   "metadata": {},
   "outputs": [],
   "source": [
    "df_train = pd.read_pickle('df_train.pkl')\n",
    "df_test  = pd.read_pickle('df_test.pkl')\n",
    "\n",
    "\n",
    "X_train, y_train = df_train.drop(columns = [target]), df_train[target]\n",
    "X_test,   y_test =  df_test.drop(columns = [target]),  df_test[target]"
   ]
  },
  {
   "cell_type": "code",
   "execution_count": 18,
   "id": "69e3a1fb-0180-4c85-990b-a0dc2ed3b201",
   "metadata": {},
   "outputs": [],
   "source": [
    "X_train"
   ]
  },
  {
   "cell_type": "code",
   "execution_count": 44,
   "id": "949c34af-e0b6-4397-8072-f4f1d536abf2",
   "metadata": {},
   "outputs": [
    {
     "data": {
      "text/plain": [
       "1      2012-04-02 06:59:00\n",
       "2      2016-02-13 18:34:51\n",
       "3      2013-03-14 12:18:28\n",
       "4      2012-04-01 04:59:00\n",
       "5      2014-11-15 16:25:29\n",
       "               ...        \n",
       "3657   2015-06-06 06:59:00\n",
       "3658   2012-07-26 20:20:13\n",
       "3659   2019-08-06 18:00:19\n",
       "3660   2021-06-14 19:15:14\n",
       "3661   2021-02-16 11:55:26\n",
       "Name: deadline, Length: 3278, dtype: datetime64[ns]"
      ]
     },
     "execution_count": 44,
     "metadata": {},
     "output_type": "execute_result"
    }
   ],
   "source": [
    "X_train['deadline']"
   ]
  },
  {
   "cell_type": "code",
   "execution_count": 39,
   "id": "eb335866-c2dd-44a5-a816-e8ef6d4c3e00",
   "metadata": {},
   "outputs": [
    {
     "data": {
      "text/html": [
       "<div>\n",
       "<style scoped>\n",
       "    .dataframe tbody tr th:only-of-type {\n",
       "        vertical-align: middle;\n",
       "    }\n",
       "\n",
       "    .dataframe tbody tr th {\n",
       "        vertical-align: top;\n",
       "    }\n",
       "\n",
       "    .dataframe thead th {\n",
       "        text-align: right;\n",
       "    }\n",
       "</style>\n",
       "<table border=\"1\" class=\"dataframe\">\n",
       "  <thead>\n",
       "    <tr style=\"text-align: right;\">\n",
       "      <th></th>\n",
       "      <th>launched_at</th>\n",
       "      <th>deadline</th>\n",
       "    </tr>\n",
       "  </thead>\n",
       "  <tbody>\n",
       "    <tr>\n",
       "      <th>1</th>\n",
       "      <td>1329076826</td>\n",
       "      <td>1333349940</td>\n",
       "    </tr>\n",
       "    <tr>\n",
       "      <th>2</th>\n",
       "      <td>1452796491</td>\n",
       "      <td>1455388491</td>\n",
       "    </tr>\n",
       "  </tbody>\n",
       "</table>\n",
       "</div>"
      ],
      "text/plain": [
       "   launched_at    deadline\n",
       "1   1329076826  1333349940\n",
       "2   1452796491  1455388491"
      ]
     },
     "execution_count": 39,
     "metadata": {},
     "output_type": "execute_result"
    }
   ],
   "source": [
    "test"
   ]
  },
  {
   "cell_type": "code",
   "execution_count": 40,
   "id": "ef50676e-cf2a-4308-8e24-9e3d9c8d573e",
   "metadata": {},
   "outputs": [
    {
     "name": "stderr",
     "output_type": "stream",
     "text": [
      "/var/folders/fy/16bvjs25629769nm3_pgm3cw0000gn/T/ipykernel_4667/531838772.py:1: SettingWithCopyWarning: \n",
      "A value is trying to be set on a copy of a slice from a DataFrame.\n",
      "Try using .loc[row_indexer,col_indexer] = value instead\n",
      "\n",
      "See the caveats in the documentation: https://pandas.pydata.org/pandas-docs/stable/user_guide/indexing.html#returning-a-view-versus-a-copy\n",
      "  test['deadline'] = pd.to_datetime(test['deadline'],unit='s')\n"
     ]
    }
   ],
   "source": [
    "test['deadline'] = pd.to_datetime(test['deadline'],unit='s')"
   ]
  },
  {
   "cell_type": "code",
   "execution_count": 22,
   "id": "6d728273-7699-4aba-b5ef-2feaa68de7a2",
   "metadata": {},
   "outputs": [],
   "source": [
    "from datetime import datetime\n",
    "\n",
    "test = datetime.fromtimestamp(test.iloc[0,0])"
   ]
  },
  {
   "cell_type": "code",
   "execution_count": 23,
   "id": "8e0a6414-f8ac-4770-aa32-3c4bea6717dc",
   "metadata": {},
   "outputs": [
    {
     "data": {
      "text/plain": [
       "datetime.datetime(2012, 2, 12, 15, 0, 26)"
      ]
     },
     "execution_count": 23,
     "metadata": {},
     "output_type": "execute_result"
    }
   ],
   "source": [
    "test"
   ]
  },
  {
   "cell_type": "code",
   "execution_count": 30,
   "id": "86d60117-b309-4430-8f1e-f6e4ab5504b0",
   "metadata": {},
   "outputs": [
    {
     "name": "stderr",
     "output_type": "stream",
     "text": [
      "/var/folders/fy/16bvjs25629769nm3_pgm3cw0000gn/T/ipykernel_4667/531838772.py:1: SettingWithCopyWarning: \n",
      "A value is trying to be set on a copy of a slice from a DataFrame.\n",
      "Try using .loc[row_indexer,col_indexer] = value instead\n",
      "\n",
      "See the caveats in the documentation: https://pandas.pydata.org/pandas-docs/stable/user_guide/indexing.html#returning-a-view-versus-a-copy\n",
      "  test['deadline'] = pd.to_datetime(test['deadline'],unit='s')\n"
     ]
    }
   ],
   "source": [
    "test['deadline'] = pd.to_datetime(test['deadline'],unit='s')"
   ]
  }
 ],
 "metadata": {
  "kernelspec": {
   "display_name": "Python (bw_unit_4)",
   "language": "python",
   "name": "bw_unit_4"
  },
  "language_info": {
   "codemirror_mode": {
    "name": "ipython",
    "version": 3
   },
   "file_extension": ".py",
   "mimetype": "text/x-python",
   "name": "python",
   "nbconvert_exporter": "python",
   "pygments_lexer": "ipython3",
   "version": "3.9.6"
  }
 },
 "nbformat": 4,
 "nbformat_minor": 5
}
